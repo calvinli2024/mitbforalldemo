{
  "cells": [
    {
      "cell_type": "markdown",
      "metadata": {
        "id": "view-in-github",
        "colab_type": "text"
      },
      "source": [
        "<a href=\"https://colab.research.google.com/github/calvinli2024/mitbforalldemo/blob/main/fine_tuning/bert_fine_tuning.ipynb\" target=\"_parent\"><img src=\"https://colab.research.google.com/assets/colab-badge.svg\" alt=\"Open In Colab\"/></a>"
      ]
    },
    {
      "cell_type": "markdown",
      "id": "84da0d36",
      "metadata": {
        "id": "84da0d36"
      },
      "source": [
        "# Purpose\n",
        "\n",
        "The purpose of this notebook is to experiment with building a multilabel classifier in PyTorch"
      ]
    },
    {
      "cell_type": "markdown",
      "id": "f82e030f",
      "metadata": {
        "id": "f82e030f"
      },
      "source": [
        "# Setup"
      ]
    },
    {
      "cell_type": "markdown",
      "id": "08c78d5b",
      "metadata": {
        "id": "08c78d5b"
      },
      "source": [
        "## Packages"
      ]
    },
    {
      "cell_type": "code",
      "execution_count": null,
      "id": "4c489e5f",
      "metadata": {
        "id": "4c489e5f"
      },
      "outputs": [],
      "source": [
        "%pip install -r requirements.txt\n",
        "%pip install -r requirements-torch.txt"
      ]
    },
    {
      "cell_type": "markdown",
      "id": "3cf28e89",
      "metadata": {
        "id": "3cf28e89"
      },
      "source": [
        "## Imports"
      ]
    },
    {
      "cell_type": "code",
      "execution_count": null,
      "id": "f2c22f7c",
      "metadata": {
        "id": "f2c22f7c"
      },
      "outputs": [],
      "source": [
        "import sklearn as sk\n",
        "from torch import nn, optim\n",
        "import torch.nn.functional as F\n",
        "import nltk\n",
        "import torch\n",
        "from tqdm import tqdm\n",
        "from torch.utils.data import Dataset, DataLoader\n",
        "from torch.optim.lr_scheduler import ExponentialLR\n",
        "import pandas as pd\n",
        "from PhilosophyMultilabel import PhilosophyMultilabel\n",
        "from sentence_transformers import SentenceTransformer\n",
        "from typing import Literal\n",
        "from transformers import DistilBertForSequenceClassification, DistilBertTokenizerFast, logging\n",
        "from ignite.engine import Engine, Events\n",
        "from ignite.metrics import Accuracy, Loss\n",
        "from ignite.contrib.handlers import ProgressBar\n",
        "from ignite.handlers import Checkpoint, EarlyStopping, DiskSaver"
      ]
    },
    {
      "cell_type": "markdown",
      "source": [
        "## Logging"
      ],
      "metadata": {
        "id": "2JLuRtB8Nc-d"
      },
      "id": "2JLuRtB8Nc-d"
    },
    {
      "cell_type": "code",
      "execution_count": null,
      "id": "b5d14266",
      "metadata": {
        "id": "b5d14266"
      },
      "outputs": [],
      "source": [
        "logging.set_verbosity_warning()"
      ]
    },
    {
      "cell_type": "markdown",
      "id": "d452af26",
      "metadata": {
        "id": "d452af26"
      },
      "source": [
        "## Dataset"
      ]
    },
    {
      "cell_type": "code",
      "execution_count": null,
      "id": "9a0c9b84",
      "metadata": {
        "id": "9a0c9b84"
      },
      "outputs": [],
      "source": [
        "class BertTextDataset(Dataset):\n",
        "  def __init__(self, input, target):\n",
        "    tokenizer = DistilBertTokenizerFast.from_pretrained(\"distilbert/distilbert-base-uncased\")\n",
        "\n",
        "    self.input = tokenizer(input, return_tensors='pt', truncation=True, padding=True, max_length=512)\n",
        "\n",
        "    self.target = target\n",
        "\n",
        "  def __len__(self):\n",
        "    return len(self.input['input_ids'])\n",
        "\n",
        "  def __getitem__(self, idx):\n",
        "    return {\n",
        "      \"input_ids\": self.input['input_ids'][idx],\n",
        "      \"attention_mask\": self.input['attention_mask'][idx],\n",
        "      \"labels\": torch.tensor(self.target[idx])\n",
        "    }\n",
        "\n",
        "x_train, y_train, x_test, y_test, cv = PhilosophyMultilabel.load()\n",
        "\n",
        "train_ds = BertTextDataset(x_train, y_train)\n",
        "test_ds = BertTextDataset(x_test, y_test) #holdout test set"
      ]
    },
    {
      "cell_type": "markdown",
      "id": "cdcf9882",
      "metadata": {
        "id": "cdcf9882"
      },
      "source": [
        "# Device"
      ]
    },
    {
      "cell_type": "code",
      "execution_count": null,
      "id": "a48f6075",
      "metadata": {
        "id": "a48f6075"
      },
      "outputs": [],
      "source": [
        "device = \"cuda\" if torch.cuda.is_available() else \"cpu\"\n",
        "\n",
        "print(f\"Using device '{device}'\")"
      ]
    },
    {
      "cell_type": "markdown",
      "id": "41e2078d",
      "metadata": {
        "id": "41e2078d"
      },
      "source": [
        "## MultiLabel Classifier"
      ]
    },
    {
      "cell_type": "code",
      "execution_count": null,
      "id": "3efbf733",
      "metadata": {
        "id": "3efbf733"
      },
      "outputs": [],
      "source": [
        "model = DistilBertForSequenceClassification.from_pretrained(\n",
        "  \"distilbert/distilbert-base-uncased\",\n",
        "  num_labels=len(y_train[0]),\n",
        "  problem_type=\"multi_label_classification\"\n",
        ")\n",
        "\n",
        "model.to(dtype=torch.float, device=device)"
      ]
    },
    {
      "cell_type": "markdown",
      "id": "31809d88",
      "metadata": {
        "id": "31809d88"
      },
      "source": [
        "## Optimizer"
      ]
    },
    {
      "cell_type": "code",
      "execution_count": null,
      "id": "e6d49dbc",
      "metadata": {
        "id": "e6d49dbc"
      },
      "outputs": [],
      "source": [
        "optimizer = optim.Adam(model.parameters(), lr=0.01)"
      ]
    },
    {
      "cell_type": "markdown",
      "id": "18339dc7",
      "metadata": {
        "id": "18339dc7"
      },
      "source": [
        "## Loss Function"
      ]
    },
    {
      "cell_type": "code",
      "execution_count": null,
      "id": "78fc629c",
      "metadata": {
        "id": "78fc629c"
      },
      "outputs": [],
      "source": [
        "loss_fn = nn.BCEWithLogitsLoss()"
      ]
    },
    {
      "cell_type": "markdown",
      "id": "5569e6f1",
      "metadata": {
        "id": "5569e6f1"
      },
      "source": [
        "## Scheduler"
      ]
    },
    {
      "cell_type": "code",
      "execution_count": null,
      "id": "2a863b39",
      "metadata": {
        "id": "2a863b39"
      },
      "outputs": [],
      "source": [
        "scheduler = ExponentialLR(optimizer, gamma=0.9)"
      ]
    },
    {
      "cell_type": "markdown",
      "id": "c5d4b66d",
      "metadata": {
        "id": "c5d4b66d"
      },
      "source": [
        "# Fine Tuning"
      ]
    },
    {
      "cell_type": "markdown",
      "id": "51e1fe9d",
      "metadata": {
        "id": "51e1fe9d"
      },
      "source": [
        "## Train"
      ]
    },
    {
      "cell_type": "code",
      "execution_count": null,
      "id": "2a2bb2ba",
      "metadata": {
        "id": "2a2bb2ba"
      },
      "outputs": [],
      "source": [
        "def train_step(\n",
        "    engine,\n",
        "    batch\n",
        "):\n",
        "  model.train()\n",
        "\n",
        "  optimizer.zero_grad()\n",
        "\n",
        "  input_ids = batch['input_ids'].to(device=device)\n",
        "  attention_mask = batch['attention_mask'].to(device=device)\n",
        "  labels = batch['labels'].to(dtype=torch.float, device=device)\n",
        "\n",
        "  output = model(input_ids=input_ids, attention_mask=attention_mask, labels=labels)\n",
        "\n",
        "  logits = output.logits\n",
        "\n",
        "  loss = loss_fn(logits, labels)\n",
        "\n",
        "  loss.backward()\n",
        "\n",
        "  optimizer.step()\n",
        "\n",
        "  return loss.item()\n",
        "\n",
        "trainer = Engine(train_step)"
      ]
    },
    {
      "cell_type": "markdown",
      "id": "01b0d7dc",
      "metadata": {
        "id": "01b0d7dc"
      },
      "source": [
        "## Test"
      ]
    },
    {
      "cell_type": "code",
      "execution_count": null,
      "id": "6f991cd0",
      "metadata": {
        "id": "6f991cd0"
      },
      "outputs": [],
      "source": [
        "def eval_step(engine, batch):\n",
        "    model.eval()\n",
        "\n",
        "    with torch.no_grad():\n",
        "      input_ids = batch['input_ids'].to(device=device)\n",
        "      attention_mask = batch['attention_mask'].to(device=device)\n",
        "      labels = batch['labels'].to(dtype=torch.float, device=device)\n",
        "\n",
        "      seq_clf_output = model(input_ids=input_ids, attention_mask=attention_mask)\n",
        "\n",
        "      probs = torch.sigmoid(seq_clf_output.logits)\n",
        "      preds = (probs >= 0.5).float()\n",
        "\n",
        "    return preds, labels\n",
        "\n",
        "evaluator = Engine(eval_step)\n",
        "\n",
        "metric = Loss(loss_fn)\n",
        "\n",
        "metric.attach(evaluator, 'loss')\n",
        "\n",
        "Accuracy().attach(evaluator, 'accuracy')"
      ]
    },
    {
      "cell_type": "markdown",
      "id": "317bd933",
      "metadata": {
        "id": "317bd933"
      },
      "source": [
        "## Checkpoint"
      ]
    },
    {
      "cell_type": "code",
      "execution_count": null,
      "id": "b1f6cbbf",
      "metadata": {
        "id": "b1f6cbbf"
      },
      "outputs": [],
      "source": [
        "checkpointer = Checkpoint(\n",
        "  to_save={'model': model, 'optimizer': optimizer, 'trainer': trainer},\n",
        "  save_handler=DiskSaver('./', create_dir=False, require_empty=False),\n",
        "  n_saved=2\n",
        ")\n",
        "\n",
        "trainer.add_event_handler(Events.EPOCH_COMPLETED(every=1), checkpointer)"
      ]
    },
    {
      "cell_type": "markdown",
      "id": "1919c3e1",
      "metadata": {
        "id": "1919c3e1"
      },
      "source": [
        "## Early Stopping"
      ]
    },
    {
      "cell_type": "code",
      "execution_count": null,
      "id": "3ae181f4",
      "metadata": {
        "id": "3ae181f4"
      },
      "outputs": [],
      "source": [
        "def score_function(engine):\n",
        "  return engine.state.metrics['loss']\n",
        "\n",
        "early_stopping = EarlyStopping(patience=1, score_function=score_function, trainer=trainer)\n",
        "\n",
        "evaluator.add_event_handler(Events.COMPLETED, early_stopping)"
      ]
    },
    {
      "cell_type": "markdown",
      "source": [
        "## Scheduler Step"
      ],
      "metadata": {
        "id": "pmaj5ZX9LisO"
      },
      "id": "pmaj5ZX9LisO"
    },
    {
      "cell_type": "code",
      "source": [
        "@trainer.on(Events.EPOCH_COMPLETED(every=1))\n",
        "def scheduler_step():\n",
        "  scheduler.step()"
      ],
      "metadata": {
        "id": "7zCeYZZTLlNx"
      },
      "id": "7zCeYZZTLlNx",
      "execution_count": null,
      "outputs": []
    },
    {
      "cell_type": "markdown",
      "id": "52064398",
      "metadata": {
        "id": "52064398"
      },
      "source": [
        "## Run"
      ]
    },
    {
      "cell_type": "code",
      "execution_count": null,
      "id": "14d289e6",
      "metadata": {
        "id": "14d289e6"
      },
      "outputs": [],
      "source": [
        "max_epochs = 9\n",
        "validate_every = 3\n",
        "\n",
        "ProgressBar().attach(trainer)\n",
        "\n",
        "for fold, (train_idx, valid_idx) in enumerate(cv.split(train_ds)):\n",
        "  print(f\"Fold: {fold}\")\n",
        "  print(\"-----------------------------\")\n",
        "\n",
        "  train_dl = DataLoader(\n",
        "    train_ds,\n",
        "    batch_size=512,\n",
        "    sampler=torch.utils.data.SubsetRandomSampler(train_idx),\n",
        "  )\n",
        "\n",
        "  valid_dl = DataLoader(\n",
        "    train_ds,\n",
        "    batch_size=512,\n",
        "    sampler=torch.utils.data.SubsetRandomSampler(valid_idx),\n",
        "  )\n",
        "\n",
        "  @trainer.on(Events.EPOCH_COMPLETED(every=validate_every))\n",
        "  def run_eval():\n",
        "    evaluator.run(valid_dl)\n",
        "\n",
        "  @trainer.on(Events.EPOCH_COMPLETED(every=validate_every))\n",
        "  def log_evaluation_results():\n",
        "    metrics = evaluator.state.metrics\n",
        "\n",
        "    print(f\"Epoch: {trainer.state.epoch}, Loss: {metrics['loss']}, Accuracy: {metrics['accuracy']}\\n\")\n",
        "\n",
        "  trainer.run(train_dl, max_epochs=max_epochs)"
      ]
    },
    {
      "cell_type": "markdown",
      "id": "c9033cb2",
      "metadata": {
        "id": "c9033cb2"
      },
      "source": [
        "## Holdout Test"
      ]
    },
    {
      "cell_type": "code",
      "execution_count": null,
      "id": "c0ff3ca1",
      "metadata": {
        "id": "c0ff3ca1"
      },
      "outputs": [],
      "source": [
        "test_dl = DataLoader(\n",
        "  test_ds,\n",
        "  batch_size=256\n",
        ")\n",
        "\n",
        "all_outputs = []\n",
        "all_targets = []\n",
        "\n",
        "model.eval()\n",
        "\n",
        "for data in test_dl:\n",
        "  with torch.no_grad():\n",
        "    input_ids = data['input_ids'].to(device=device)\n",
        "    attention_mask = data['attention_mask'].to(device=device)\n",
        "    labels = data['labels'].to(dtype=torch.float, device=device)\n",
        "\n",
        "    seq_clf_output = model(input_ids=input_ids, attention_mask=attention_mask)\n",
        "\n",
        "    probs = torch.sigmoid(seq_clf_output.logits)\n",
        "    preds = (probs >= 0.5).float()\n",
        "\n",
        "    all_outputs.append(preds.cpu())\n",
        "    all_targets.append(labels.cpu())\n",
        "\n",
        "all_outputs = torch.cat(all_outputs)\n",
        "all_targets = torch.cat(all_targets)\n",
        "\n",
        "correct = (all_outputs == all_targets).float()\n",
        "\n",
        "accuracy = round(correct.mean().item(), 4)\n",
        "\n",
        "print(f\"Holdout accuracy: {accuracy}\")"
      ]
    }
  ],
  "metadata": {
    "kernelspec": {
      "display_name": "Python 3",
      "name": "python3"
    },
    "language_info": {
      "codemirror_mode": {
        "name": "ipython",
        "version": 3
      },
      "file_extension": ".py",
      "mimetype": "text/x-python",
      "name": "python",
      "nbconvert_exporter": "python",
      "pygments_lexer": "ipython3",
      "version": "3.10.18"
    },
    "colab": {
      "provenance": [],
      "machine_shape": "hm",
      "gpuType": "A100",
      "include_colab_link": true
    },
    "accelerator": "GPU"
  },
  "nbformat": 4,
  "nbformat_minor": 5
}